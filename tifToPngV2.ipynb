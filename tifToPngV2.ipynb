{
 "cells": [
  {
   "cell_type": "code",
   "execution_count": 1,
   "metadata": {},
   "outputs": [
    {
     "data": {
      "text/plain": [
       "'C:\\\\Users\\\\oriol\\\\Desktop\\\\xView2'"
      ]
     },
     "execution_count": 1,
     "metadata": {},
     "output_type": "execute_result"
    }
   ],
   "source": [
    "%pwd"
   ]
  },
  {
   "cell_type": "code",
   "execution_count": 2,
   "metadata": {},
   "outputs": [
    {
     "name": "stdout",
     "output_type": "stream",
     "text": [
      "Using glob.glob()\n",
      "22068\n"
     ]
    }
   ],
   "source": [
    "import os\n",
    "os.chdir(\"C:\\\\Users\\\\oriol\\\\Desktop\\\\xView2\\\\xView_data\\\\geotiffs\")\n",
    "import glob\n",
    "print(\"Using glob.glob()\")\n",
    "j=0\n",
    "files = glob.glob('./**/*.tif', \n",
    "                   recursive = True)\n",
    "for file in files:\n",
    "    j+=1\n",
    "    #print(file)\n",
    "print(j)"
   ]
  },
  {
   "cell_type": "code",
   "execution_count": 10,
   "metadata": {},
   "outputs": [
    {
     "data": {
      "text/plain": [
       "'C:\\\\Users\\\\oriol\\\\Desktop\\\\xView2\\\\xView_data\\\\geotiffs'"
      ]
     },
     "execution_count": 10,
     "metadata": {},
     "output_type": "execute_result"
    }
   ],
   "source": [
    "%pwd"
   ]
  },
  {
   "cell_type": "code",
   "execution_count": 10,
   "metadata": {},
   "outputs": [
    {
     "name": "stdout",
     "output_type": "stream",
     "text": [
      "C:\\Users\\oriol\\Desktop\\XView2\\xView_data\n"
     ]
    }
   ],
   "source": [
    "%cd ~\\Desktop\\XView2\\\\xView_data"
   ]
  },
  {
   "cell_type": "code",
   "execution_count": 12,
   "metadata": {},
   "outputs": [
    {
     "name": "stdout",
     "output_type": "stream",
     "text": [
      ".\\geotiffs\\hold\\images Files:  1866\n",
      ".\\geotiffs\\hold\\labels Files:  1866\n",
      ".\\geotiffs\\test\\images Files:  1866\n",
      ".\\geotiffs\\test\\labels Files:  1866\n",
      ".\\geotiffs\\tier1\\images Files:  5598\n",
      ".\\geotiffs\\tier1\\labels Files:  5598\n",
      ".\\geotiffs\\tier3\\images Files:  12738\n",
      ".\\geotiffs\\tier3\\labels Files:  12738\n",
      ".\\geotiffs - Copy\\hold\\images Files:  1866\n",
      ".\\geotiffs - Copy\\hold\\labels Files:  1866\n",
      ".\\geotiffs - Copy\\test\\images Files:  1866\n",
      ".\\geotiffs - Copy\\test\\labels Files:  1866\n",
      ".\\geotiffs - Copy\\tier1\\images Files:  5598\n",
      ".\\geotiffs - Copy\\tier1\\labels Files:  5598\n",
      ".\\geotiffs - Copy\\tier3\\images Files:  12738\n",
      ".\\geotiffs - Copy\\tier3\\labels Files:  12738\n",
      ".\\toypngs\\test\\images Files:  10\n",
      ".\\toypngs\\test\\labels Files:  10\n",
      ".\\toypngs\\tier1\\images Files:  124\n",
      ".\\toypngs\\tier1\\labels Files:  124\n",
      ".\\toypngs\\tier3\\images Files:  102\n",
      ".\\toypngs\\tier3\\labels Files:  102\n",
      "88745\n"
     ]
    }
   ],
   "source": [
    "noOfDir = 0 \n",
    "noOfFiles = 0\n",
    "for base, dirs, files in os.walk('.'):\n",
    "    #print('Looking in : ',base)\n",
    "    if len(dirs) == 0:\n",
    "        print (base, \"Files: \", len(files))\n",
    "    for directories in dirs:\n",
    "        noOfDir += 1\n",
    "    for Files in files:\n",
    "        noOfFiles += 1\n",
    "print(noOfFiles)"
   ]
  },
  {
   "cell_type": "code",
   "execution_count": 15,
   "metadata": {},
   "outputs": [],
   "source": [
    "import os\n",
    "from shutil import copyfile\n",
    "from skimage import io\n",
    "import warnings\n",
    "import numpy as np\n",
    "\n",
    "\n",
    "def tifToPng(src,dest):\n",
    "    noOfDir = 0 \n",
    "    noOfFiles = 0\n",
    "    printB = False\n",
    "    for root,d_names,f_names in os.walk(src):\n",
    "        if len(d_names) == 0:\n",
    "            print (root, \"- Files: \", len(f_names))\n",
    "        i = 0\n",
    "        existCount = 0\n",
    "        newCount = 0\n",
    "        #dont early stop i f=len\n",
    "        earlyStop = len(f_names) \n",
    "        updateRate = 100\n",
    "        for f in f_names[0:earlyStop]:\n",
    "            i+=1\n",
    "\n",
    "            if (i %updateRate == 0 and printB == True):\n",
    "                print(str(i)+ \"/\" +str(len(f_names)))\n",
    "            #create paths\n",
    "            #fname.append(os.path.join(root, f))\n",
    "            oldpath = os.path.join(root, f)\n",
    "            newroot = root.replace(src, dest)\n",
    "            newpath = os.path.join(newroot, f)\n",
    "\n",
    "            #make subfolders if DNE\n",
    "            dstfolder = os.path.dirname(newpath)\n",
    "            if not os.path.exists(dstfolder):\n",
    "                os.makedirs(dstfolder)\n",
    "\n",
    "            #copy to new folder\n",
    "            if os.path.splitext(os.path.join(root, f))[1].lower() == \".tif\": # if file is tif we want to convert\n",
    "                newpath = newpath.replace('.tif', '.png')\n",
    "                #print(newpath)\n",
    "\n",
    "                if os.path.exists(newpath): # dont need to convert if png already exists\n",
    "                    #print (\"Already Exists\")\n",
    "                    existCount +=1\n",
    "                    pass\n",
    "\n",
    "                else: #.png DNE\n",
    "                    try:\n",
    "                        image = io.imread(fname= oldpath)\n",
    "                        image = image.astype(np.uint8)\n",
    "                        io.imsave(fname= newpath,arr=image)\n",
    "                        newCount +=1\n",
    "                        printB = True\n",
    "                        pass\n",
    "                    except Exception as e:\n",
    "                        print (e, f)\n",
    "            else: #not a tif jsut copy over\n",
    "                try:\n",
    "                    if os.path.exists(newpath): # dont need to convert if png already exists\n",
    "                    #print (\"Already Exists\")\n",
    "                        existCount +=1\n",
    "                        pass\n",
    "                    else:\n",
    "                        copyfile(oldpath, newpath)\n",
    "                        newCount +=1\n",
    "                        pass\n",
    "                except Exception as e:\n",
    "                        print (e)\n",
    "\n",
    "                pass\n",
    "        if len(d_names) == 0:\n",
    "            #print (root, \"- Files: \", len(f_names))\n",
    "            print(\"Existing File Count:\", existCount)\n",
    "            print(\"New File Count:\", newCount)\n",
    "            print(\"Counts = files\", len(f_names) == (newCount + existCount) or earlyStop ==  (newCount + existCount),  \"\\n\")\n",
    "\n"
   ]
  },
  {
   "cell_type": "code",
   "execution_count": 16,
   "metadata": {},
   "outputs": [
    {
     "name": "stdout",
     "output_type": "stream",
     "text": [
      "./geotiffs\\hold\\images - Files:  1866\n",
      "Existing File Count: 1865\n",
      "New File Count: 1\n",
      "Counts = files True \n",
      "\n",
      "./geotiffs\\hold\\labels - Files:  1866\n",
      "100/1866\n",
      "200/1866\n",
      "300/1866\n",
      "400/1866\n",
      "500/1866\n",
      "600/1866\n",
      "700/1866\n",
      "800/1866\n",
      "900/1866\n",
      "1000/1866\n",
      "1100/1866\n",
      "1200/1866\n",
      "1300/1866\n",
      "1400/1866\n",
      "1500/1866\n",
      "1600/1866\n",
      "1700/1866\n",
      "1800/1866\n",
      "Existing File Count: 1865\n",
      "New File Count: 1\n",
      "Counts = files True \n",
      "\n",
      "./geotiffs\\test\\images - Files:  1866\n",
      "100/1866\n",
      "200/1866\n",
      "300/1866\n",
      "400/1866\n",
      "500/1866\n",
      "600/1866\n",
      "700/1866\n",
      "800/1866\n",
      "900/1866\n",
      "1000/1866\n",
      "1100/1866\n",
      "1200/1866\n",
      "1300/1866\n",
      "1400/1866\n",
      "1500/1866\n",
      "1600/1866\n",
      "1700/1866\n",
      "1800/1866\n",
      "Existing File Count: 633\n",
      "New File Count: 1233\n",
      "Counts = files True \n",
      "\n",
      "./geotiffs\\test\\labels - Files:  1866\n",
      "100/1866\n",
      "200/1866\n",
      "300/1866\n",
      "400/1866\n",
      "500/1866\n",
      "600/1866\n",
      "700/1866\n",
      "800/1866\n",
      "900/1866\n",
      "1000/1866\n",
      "1100/1866\n",
      "1200/1866\n",
      "1300/1866\n",
      "1400/1866\n",
      "1500/1866\n",
      "1600/1866\n",
      "1700/1866\n",
      "1800/1866\n",
      "Existing File Count: 0\n",
      "New File Count: 1866\n",
      "Counts = files True \n",
      "\n",
      "./geotiffs\\tier1\\images - Files:  5598\n",
      "100/5598\n",
      "200/5598\n",
      "300/5598\n",
      "400/5598\n",
      "500/5598\n",
      "600/5598\n",
      "700/5598\n",
      "800/5598\n",
      "900/5598\n",
      "1000/5598\n",
      "1100/5598\n",
      "1200/5598\n",
      "1300/5598\n",
      "1400/5598\n",
      "1500/5598\n",
      "1600/5598\n",
      "1700/5598\n",
      "1800/5598\n",
      "1900/5598\n",
      "2000/5598\n",
      "2100/5598\n",
      "2200/5598\n",
      "2300/5598\n",
      "2400/5598\n",
      "2500/5598\n",
      "2600/5598\n",
      "2700/5598\n",
      "2800/5598\n",
      "2900/5598\n",
      "3000/5598\n",
      "3100/5598\n",
      "3200/5598\n",
      "3300/5598\n",
      "3400/5598\n",
      "3500/5598\n",
      "3600/5598\n",
      "3700/5598\n",
      "3800/5598\n",
      "3900/5598\n",
      "4000/5598\n",
      "4100/5598\n",
      "4200/5598\n",
      "4300/5598\n",
      "4400/5598\n"
     ]
    },
    {
     "name": "stderr",
     "output_type": "stream",
     "text": [
      "<ipython-input-15-2010bbab0ddb>:51: UserWarning: ./geopngs\\tier1\\images\\socal-fire_00000432_post_disaster.png is a low contrast image\n",
      "  io.imsave(fname= newpath,arr=image)\n",
      "<ipython-input-15-2010bbab0ddb>:51: UserWarning: ./geopngs\\tier1\\images\\socal-fire_00000432_pre_disaster.png is a low contrast image\n",
      "  io.imsave(fname= newpath,arr=image)\n"
     ]
    },
    {
     "name": "stdout",
     "output_type": "stream",
     "text": [
      "4500/5598\n",
      "4600/5598\n"
     ]
    },
    {
     "name": "stderr",
     "output_type": "stream",
     "text": [
      "<ipython-input-15-2010bbab0ddb>:51: UserWarning: ./geopngs\\tier1\\images\\socal-fire_00000632_post_disaster.png is a low contrast image\n",
      "  io.imsave(fname= newpath,arr=image)\n"
     ]
    },
    {
     "name": "stdout",
     "output_type": "stream",
     "text": [
      "4700/5598\n"
     ]
    },
    {
     "name": "stderr",
     "output_type": "stream",
     "text": [
      "<ipython-input-15-2010bbab0ddb>:51: UserWarning: ./geopngs\\tier1\\images\\socal-fire_00000632_pre_disaster.png is a low contrast image\n",
      "  io.imsave(fname= newpath,arr=image)\n"
     ]
    },
    {
     "name": "stdout",
     "output_type": "stream",
     "text": [
      "4800/5598\n"
     ]
    },
    {
     "name": "stderr",
     "output_type": "stream",
     "text": [
      "<ipython-input-15-2010bbab0ddb>:51: UserWarning: ./geopngs\\tier1\\images\\socal-fire_00000789_post_disaster.png is a low contrast image\n",
      "  io.imsave(fname= newpath,arr=image)\n",
      "<ipython-input-15-2010bbab0ddb>:51: UserWarning: ./geopngs\\tier1\\images\\socal-fire_00000789_pre_disaster.png is a low contrast image\n",
      "  io.imsave(fname= newpath,arr=image)\n",
      "<ipython-input-15-2010bbab0ddb>:51: UserWarning: ./geopngs\\tier1\\images\\socal-fire_00000807_post_disaster.png is a low contrast image\n",
      "  io.imsave(fname= newpath,arr=image)\n"
     ]
    },
    {
     "name": "stdout",
     "output_type": "stream",
     "text": [
      "4900/5598\n",
      "5000/5598\n",
      "5100/5598\n",
      "5200/5598\n",
      "5300/5598\n",
      "5400/5598\n"
     ]
    },
    {
     "name": "stderr",
     "output_type": "stream",
     "text": [
      "<ipython-input-15-2010bbab0ddb>:51: UserWarning: ./geopngs\\tier1\\images\\socal-fire_00001307_post_disaster.png is a low contrast image\n",
      "  io.imsave(fname= newpath,arr=image)\n",
      "<ipython-input-15-2010bbab0ddb>:51: UserWarning: ./geopngs\\tier1\\images\\socal-fire_00001307_pre_disaster.png is a low contrast image\n",
      "  io.imsave(fname= newpath,arr=image)\n"
     ]
    },
    {
     "name": "stdout",
     "output_type": "stream",
     "text": [
      "5500/5598\n",
      "Existing File Count: 0\n",
      "New File Count: 5598\n",
      "Counts = files True \n",
      "\n",
      "./geotiffs\\tier1\\labels - Files:  5598\n",
      "100/5598\n",
      "200/5598\n",
      "300/5598\n",
      "400/5598\n",
      "500/5598\n",
      "600/5598\n",
      "700/5598\n",
      "800/5598\n",
      "900/5598\n",
      "1000/5598\n",
      "1100/5598\n",
      "1200/5598\n",
      "1300/5598\n",
      "1400/5598\n",
      "1500/5598\n",
      "1600/5598\n",
      "1700/5598\n",
      "1800/5598\n",
      "1900/5598\n",
      "2000/5598\n",
      "2100/5598\n",
      "2200/5598\n",
      "2300/5598\n",
      "2400/5598\n",
      "2500/5598\n",
      "2600/5598\n",
      "2700/5598\n",
      "2800/5598\n",
      "2900/5598\n",
      "3000/5598\n",
      "3100/5598\n",
      "3200/5598\n",
      "3300/5598\n",
      "3400/5598\n",
      "3500/5598\n",
      "3600/5598\n",
      "3700/5598\n",
      "3800/5598\n",
      "3900/5598\n",
      "4000/5598\n",
      "4100/5598\n",
      "4200/5598\n",
      "4300/5598\n",
      "4400/5598\n",
      "4500/5598\n",
      "4600/5598\n",
      "4700/5598\n",
      "4800/5598\n",
      "4900/5598\n",
      "5000/5598\n",
      "5100/5598\n",
      "5200/5598\n",
      "5300/5598\n",
      "5400/5598\n",
      "5500/5598\n",
      "Existing File Count: 0\n",
      "New File Count: 5598\n",
      "Counts = files True \n",
      "\n",
      "./geotiffs\\tier3\\images - Files:  12738\n"
     ]
    },
    {
     "name": "stderr",
     "output_type": "stream",
     "text": [
      "<ipython-input-15-2010bbab0ddb>:51: UserWarning: ./geopngs\\tier3\\images\\joplin-tornado_00000026_post_disaster.png is a low contrast image\n",
      "  io.imsave(fname= newpath,arr=image)\n",
      "<ipython-input-15-2010bbab0ddb>:51: UserWarning: ./geopngs\\tier3\\images\\joplin-tornado_00000026_pre_disaster.png is a low contrast image\n",
      "  io.imsave(fname= newpath,arr=image)\n"
     ]
    },
    {
     "name": "stdout",
     "output_type": "stream",
     "text": [
      "100/12738\n",
      "200/12738\n",
      "300/12738\n",
      "400/12738\n",
      "500/12738\n",
      "600/12738\n",
      "700/12738\n",
      "800/12738\n",
      "900/12738\n",
      "1000/12738\n",
      "1100/12738\n",
      "1200/12738\n",
      "1300/12738\n",
      "1400/12738\n"
     ]
    },
    {
     "name": "stderr",
     "output_type": "stream",
     "text": [
      "<ipython-input-15-2010bbab0ddb>:51: UserWarning: ./geopngs\\tier3\\images\\nepal-flooding_00000053_post_disaster.png is a low contrast image\n",
      "  io.imsave(fname= newpath,arr=image)\n",
      "<ipython-input-15-2010bbab0ddb>:51: UserWarning: ./geopngs\\tier3\\images\\nepal-flooding_00000072_post_disaster.png is a low contrast image\n",
      "  io.imsave(fname= newpath,arr=image)\n"
     ]
    },
    {
     "name": "stdout",
     "output_type": "stream",
     "text": [
      "1500/12738\n"
     ]
    },
    {
     "name": "stderr",
     "output_type": "stream",
     "text": [
      "<ipython-input-15-2010bbab0ddb>:51: UserWarning: ./geopngs\\tier3\\images\\nepal-flooding_00000092_post_disaster.png is a low contrast image\n",
      "  io.imsave(fname= newpath,arr=image)\n"
     ]
    },
    {
     "name": "stdout",
     "output_type": "stream",
     "text": [
      "1600/12738\n"
     ]
    },
    {
     "name": "stderr",
     "output_type": "stream",
     "text": [
      "<ipython-input-15-2010bbab0ddb>:51: UserWarning: ./geopngs\\tier3\\images\\nepal-flooding_00000151_post_disaster.png is a low contrast image\n",
      "  io.imsave(fname= newpath,arr=image)\n"
     ]
    },
    {
     "name": "stdout",
     "output_type": "stream",
     "text": [
      "1700/12738\n"
     ]
    },
    {
     "name": "stderr",
     "output_type": "stream",
     "text": [
      "<ipython-input-15-2010bbab0ddb>:51: UserWarning: ./geopngs\\tier3\\images\\nepal-flooding_00000186_post_disaster.png is a low contrast image\n",
      "  io.imsave(fname= newpath,arr=image)\n"
     ]
    },
    {
     "name": "stdout",
     "output_type": "stream",
     "text": [
      "1800/12738\n",
      "1900/12738\n",
      "2000/12738\n",
      "2100/12738\n",
      "2200/12738\n",
      "2300/12738\n"
     ]
    },
    {
     "name": "stderr",
     "output_type": "stream",
     "text": [
      "<ipython-input-15-2010bbab0ddb>:51: UserWarning: ./geopngs\\tier3\\images\\nepal-flooding_00000502_post_disaster.png is a low contrast image\n",
      "  io.imsave(fname= newpath,arr=image)\n"
     ]
    },
    {
     "name": "stdout",
     "output_type": "stream",
     "text": [
      "2400/12738\n",
      "2500/12738\n",
      "2600/12738\n",
      "2700/12738\n",
      "2800/12738\n",
      "2900/12738\n",
      "3000/12738\n",
      "3100/12738\n",
      "3200/12738\n",
      "3300/12738\n",
      "3400/12738\n",
      "3500/12738\n",
      "3600/12738\n"
     ]
    },
    {
     "name": "stderr",
     "output_type": "stream",
     "text": [
      "<ipython-input-15-2010bbab0ddb>:51: UserWarning: ./geopngs\\tier3\\images\\pinery-bushfire_00000537_post_disaster.png is a low contrast image\n",
      "  io.imsave(fname= newpath,arr=image)\n"
     ]
    },
    {
     "name": "stdout",
     "output_type": "stream",
     "text": [
      "3700/12738\n",
      "3800/12738\n",
      "3900/12738\n",
      "4000/12738\n",
      "4100/12738\n",
      "4200/12738\n",
      "4300/12738\n",
      "4400/12738\n",
      "4500/12738\n",
      "4600/12738\n",
      "4700/12738\n"
     ]
    },
    {
     "name": "stderr",
     "output_type": "stream",
     "text": [
      "<ipython-input-15-2010bbab0ddb>:51: UserWarning: ./geopngs\\tier3\\images\\pinery-bushfire_00001091_pre_disaster.png is a low contrast image\n",
      "  io.imsave(fname= newpath,arr=image)\n",
      "<ipython-input-15-2010bbab0ddb>:51: UserWarning: ./geopngs\\tier3\\images\\pinery-bushfire_00001100_post_disaster.png is a low contrast image\n",
      "  io.imsave(fname= newpath,arr=image)\n",
      "<ipython-input-15-2010bbab0ddb>:51: UserWarning: ./geopngs\\tier3\\images\\pinery-bushfire_00001113_post_disaster.png is a low contrast image\n",
      "  io.imsave(fname= newpath,arr=image)\n"
     ]
    },
    {
     "name": "stdout",
     "output_type": "stream",
     "text": [
      "4800/12738\n",
      "4900/12738\n",
      "5000/12738\n",
      "5100/12738\n",
      "5200/12738\n",
      "5300/12738\n",
      "5400/12738\n",
      "5500/12738\n",
      "5600/12738\n"
     ]
    },
    {
     "name": "stderr",
     "output_type": "stream",
     "text": [
      "<ipython-input-15-2010bbab0ddb>:51: UserWarning: ./geopngs\\tier3\\images\\pinery-bushfire_00001535_post_disaster.png is a low contrast image\n",
      "  io.imsave(fname= newpath,arr=image)\n"
     ]
    },
    {
     "name": "stdout",
     "output_type": "stream",
     "text": [
      "5700/12738\n",
      "5800/12738\n",
      "5900/12738\n",
      "6000/12738\n",
      "6100/12738\n",
      "6200/12738\n",
      "6300/12738\n",
      "6400/12738\n",
      "6500/12738\n",
      "6600/12738\n",
      "6700/12738\n",
      "6800/12738\n",
      "6900/12738\n",
      "7000/12738\n",
      "7100/12738\n",
      "7200/12738\n",
      "7300/12738\n",
      "7400/12738\n",
      "7500/12738\n",
      "7600/12738\n",
      "7700/12738\n",
      "7800/12738\n",
      "7900/12738\n",
      "8000/12738\n",
      "8100/12738\n",
      "8200/12738\n",
      "8300/12738\n",
      "8400/12738\n",
      "8500/12738\n",
      "8600/12738\n",
      "8700/12738\n",
      "8800/12738\n",
      "8900/12738\n",
      "9000/12738\n",
      "9100/12738\n",
      "9200/12738\n",
      "9300/12738\n",
      "9400/12738\n",
      "9500/12738\n",
      "9600/12738\n",
      "9700/12738\n",
      "9800/12738\n",
      "9900/12738\n",
      "10000/12738\n",
      "10100/12738\n",
      "10200/12738\n",
      "10300/12738\n"
     ]
    },
    {
     "name": "stderr",
     "output_type": "stream",
     "text": [
      "<ipython-input-15-2010bbab0ddb>:51: UserWarning: ./geopngs\\tier3\\images\\tuscaloosa-tornado_00000013_pre_disaster.png is a low contrast image\n",
      "  io.imsave(fname= newpath,arr=image)\n"
     ]
    },
    {
     "name": "stdout",
     "output_type": "stream",
     "text": [
      "10400/12738\n",
      "10500/12738\n",
      "10600/12738\n",
      "10700/12738\n",
      "10800/12738\n",
      "10900/12738\n",
      "11000/12738\n",
      "11100/12738\n",
      "11200/12738\n",
      "11300/12738\n",
      "11400/12738\n",
      "11500/12738\n",
      "11600/12738\n",
      "11700/12738\n",
      "11800/12738\n",
      "11900/12738\n",
      "12000/12738\n",
      "12100/12738\n",
      "12200/12738\n",
      "12300/12738\n",
      "12400/12738\n",
      "12500/12738\n",
      "12600/12738\n",
      "12700/12738\n",
      "Existing File Count: 0\n",
      "New File Count: 12738\n",
      "Counts = files True \n",
      "\n",
      "./geotiffs\\tier3\\labels - Files:  12738\n",
      "100/12738\n",
      "200/12738\n",
      "300/12738\n",
      "400/12738\n",
      "500/12738\n",
      "600/12738\n",
      "700/12738\n",
      "800/12738\n",
      "900/12738\n",
      "1000/12738\n",
      "1100/12738\n",
      "1200/12738\n",
      "1300/12738\n",
      "1400/12738\n",
      "1500/12738\n",
      "1600/12738\n",
      "1700/12738\n",
      "1800/12738\n",
      "1900/12738\n",
      "2000/12738\n",
      "2100/12738\n",
      "2200/12738\n",
      "2300/12738\n",
      "2400/12738\n",
      "2500/12738\n",
      "2600/12738\n",
      "2700/12738\n",
      "2800/12738\n",
      "2900/12738\n",
      "3000/12738\n",
      "3100/12738\n",
      "3200/12738\n",
      "3300/12738\n",
      "3400/12738\n",
      "3500/12738\n",
      "3600/12738\n",
      "3700/12738\n",
      "3800/12738\n",
      "3900/12738\n",
      "4000/12738\n",
      "4100/12738\n",
      "4200/12738\n",
      "4300/12738\n",
      "4400/12738\n",
      "4500/12738\n",
      "4600/12738\n",
      "4700/12738\n",
      "4800/12738\n",
      "4900/12738\n",
      "5000/12738\n",
      "5100/12738\n",
      "5200/12738\n",
      "5300/12738\n",
      "5400/12738\n",
      "5500/12738\n",
      "5600/12738\n",
      "5700/12738\n",
      "5800/12738\n",
      "5900/12738\n",
      "6000/12738\n",
      "6100/12738\n",
      "6200/12738\n",
      "6300/12738\n",
      "6400/12738\n",
      "6500/12738\n",
      "6600/12738\n",
      "6700/12738\n",
      "6800/12738\n",
      "6900/12738\n",
      "7000/12738\n",
      "7100/12738\n",
      "7200/12738\n",
      "7300/12738\n",
      "7400/12738\n",
      "7500/12738\n",
      "7600/12738\n",
      "7700/12738\n",
      "7800/12738\n",
      "7900/12738\n",
      "8000/12738\n",
      "8100/12738\n",
      "8200/12738\n",
      "8300/12738\n",
      "8400/12738\n",
      "8500/12738\n",
      "8600/12738\n",
      "8700/12738\n",
      "8800/12738\n",
      "8900/12738\n",
      "9000/12738\n",
      "9100/12738\n",
      "9200/12738\n",
      "9300/12738\n",
      "9400/12738\n",
      "9500/12738\n",
      "9600/12738\n",
      "9700/12738\n",
      "9800/12738\n",
      "9900/12738\n",
      "10000/12738\n",
      "10100/12738\n",
      "10200/12738\n",
      "10300/12738\n",
      "10400/12738\n",
      "10500/12738\n",
      "10600/12738\n",
      "10700/12738\n",
      "10800/12738\n",
      "10900/12738\n",
      "11000/12738\n",
      "11100/12738\n",
      "11200/12738\n",
      "11300/12738\n",
      "11400/12738\n",
      "11500/12738\n",
      "11600/12738\n",
      "11700/12738\n",
      "11800/12738\n",
      "11900/12738\n",
      "12000/12738\n",
      "12100/12738\n",
      "12200/12738\n",
      "12300/12738\n",
      "12400/12738\n",
      "12500/12738\n",
      "12600/12738\n",
      "12700/12738\n",
      "Existing File Count: 0\n",
      "New File Count: 12738\n",
      "Counts = files True \n",
      "\n"
     ]
    }
   ],
   "source": [
    "\n",
    "src = \"./geotiffs\"\n",
    "dest = './geopngs'\n",
    "tifToPng(src,dest)"
   ]
  },
  {
   "cell_type": "code",
   "execution_count": null,
   "metadata": {},
   "outputs": [],
   "source": []
  }
 ],
 "metadata": {
  "kernelspec": {
   "display_name": "Python 3",
   "language": "python",
   "name": "python3"
  },
  "language_info": {
   "codemirror_mode": {
    "name": "ipython",
    "version": 3
   },
   "file_extension": ".py",
   "mimetype": "text/x-python",
   "name": "python",
   "nbconvert_exporter": "python",
   "pygments_lexer": "ipython3",
   "version": "3.8.8"
  }
 },
 "nbformat": 4,
 "nbformat_minor": 4
}
